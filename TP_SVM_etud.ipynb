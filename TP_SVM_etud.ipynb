{
 "cells": [
  {
   "cell_type": "markdown",
   "metadata": {},
   "source": [
    "# TP I : Support Vector Machines\n",
    "\n",
    "Ce TP vise à apporter les éléments nécessaires pour comprendre les implementations d'algorithmes de classification autour des SVM. **C'est un *TP à trous* ; il s'agira de compléter ces trous et d'y ajouter les tests qui vous sembleront utiles.**\n",
    "\n",
    "Voici un aperçu des points abordés lors de ce TP.\n",
    "\n",
    "- partie I\n",
    "    - Importation et visualisation des données\n",
    "- partie II\n",
    "    - SVM Linéaire\n",
    "- partie III\n",
    "    - SVM non-Linéaire\n",
    "    \n",
    "Dans l'ensemble du déroulé du TP vous ferez bien attention à valider par un jeu de tests la validité des programmes écrits. Vous regarderez l'influence des paramètres sur la convergence. Vous comparerez les intérêts des diférentes méthodes les unes par rapport aux autres.\n",
    "\n",
    "**Votre démarche et vos conclusions seront présentées sous forme d'un rapport (de 5 à 10 pages) où vous pourrez choisir d'avoir une approche plus sur les résultats mathématiques ou sur les résultats numériques. Le notebook Jupiter avec l'ensemble de vos travaux sera aussi remis. Ces deux éléments devront être remis au plus tard le mercredi 28 décembre.**\n"
   ]
  },
  {
   "cell_type": "markdown",
   "metadata": {},
   "source": [
    "## Attendus de rendu\n",
    "\n",
    "Votre rendu sera jugé à l'aune de\n",
    "\n",
    "- votre capacité à produire des algorithmes valides, répondant à la question posée\n",
    "- l'étude effectuée concernant la sensibilité de vos algorithmes aux hyperparamètres / conditions initiales\n",
    "- l'analyse comparative proposée quant aux différentes implémentations suggérées \n",
    "- les stress-tests auxquels vous aurez confrontés vos implémentations. \n",
    "\n",
    "On portera une attention particulière à la *généricité* de votre réponse ; tout comme cela vous est suggéré par la suite on attendra de vous d'appuyer vos affirmations par suffisamment de tests et une appréciation pour les limites de votre analyse.\n",
    "\n",
    "Ce TP est à rendre par **groupes de 3** et exceptionnellement **2**."
   ]
  },
  {
   "cell_type": "markdown",
   "metadata": {},
   "source": [
    "# Au travail!"
   ]
  },
  {
   "cell_type": "code",
   "execution_count": 1,
   "metadata": {},
   "outputs": [],
   "source": [
    "import warnings\n",
    "import math\n",
    "import numpy as np\n",
    "import pandas as pd\n",
    "from matplotlib import pyplot as plt"
   ]
  },
  {
   "cell_type": "markdown",
   "metadata": {},
   "source": [
    "## I- Importation et préparation des données\n",
    "\n",
    "Nous allons ici introduire quelques datasets qui permettront de tester les méthodes.\n"
   ]
  },
  {
   "cell_type": "markdown",
   "metadata": {},
   "source": [
    "### 1. Importation"
   ]
  },
  {
   "cell_type": "markdown",
   "metadata": {
    "collapsed": true
   },
   "source": [
    "Importer **data1** le dataset proposé pour faire les premiers tests\n",
    "\n"
   ]
  },
  {
   "cell_type": "code",
   "execution_count": 2,
   "metadata": {},
   "outputs": [],
   "source": [
    "df1 = pd.read_excel('data/data1.xlsx')"
   ]
  },
  {
   "cell_type": "code",
   "execution_count": 3,
   "metadata": {},
   "outputs": [
    {
     "data": {
      "text/html": [
       "<div>\n",
       "<style scoped>\n",
       "    .dataframe tbody tr th:only-of-type {\n",
       "        vertical-align: middle;\n",
       "    }\n",
       "\n",
       "    .dataframe tbody tr th {\n",
       "        vertical-align: top;\n",
       "    }\n",
       "\n",
       "    .dataframe thead th {\n",
       "        text-align: right;\n",
       "    }\n",
       "</style>\n",
       "<table border=\"1\" class=\"dataframe\">\n",
       "  <thead>\n",
       "    <tr style=\"text-align: right;\">\n",
       "      <th></th>\n",
       "      <th>échantillon</th>\n",
       "      <th>caractère1</th>\n",
       "      <th>caractère2</th>\n",
       "      <th>classe</th>\n",
       "    </tr>\n",
       "  </thead>\n",
       "  <tbody>\n",
       "    <tr>\n",
       "      <th>0</th>\n",
       "      <td>1</td>\n",
       "      <td>0.5</td>\n",
       "      <td>2.5</td>\n",
       "      <td>1</td>\n",
       "    </tr>\n",
       "    <tr>\n",
       "      <th>1</th>\n",
       "      <td>2</td>\n",
       "      <td>0.8</td>\n",
       "      <td>2.8</td>\n",
       "      <td>1</td>\n",
       "    </tr>\n",
       "    <tr>\n",
       "      <th>2</th>\n",
       "      <td>3</td>\n",
       "      <td>1.5</td>\n",
       "      <td>3.5</td>\n",
       "      <td>1</td>\n",
       "    </tr>\n",
       "    <tr>\n",
       "      <th>3</th>\n",
       "      <td>4</td>\n",
       "      <td>0.2</td>\n",
       "      <td>0.2</td>\n",
       "      <td>-1</td>\n",
       "    </tr>\n",
       "    <tr>\n",
       "      <th>4</th>\n",
       "      <td>5</td>\n",
       "      <td>0.6</td>\n",
       "      <td>0.6</td>\n",
       "      <td>-1</td>\n",
       "    </tr>\n",
       "    <tr>\n",
       "      <th>5</th>\n",
       "      <td>6</td>\n",
       "      <td>1.7</td>\n",
       "      <td>1.7</td>\n",
       "      <td>-1</td>\n",
       "    </tr>\n",
       "    <tr>\n",
       "      <th>6</th>\n",
       "      <td>7</td>\n",
       "      <td>1.0</td>\n",
       "      <td>4.0</td>\n",
       "      <td>1</td>\n",
       "    </tr>\n",
       "    <tr>\n",
       "      <th>7</th>\n",
       "      <td>8</td>\n",
       "      <td>0.6</td>\n",
       "      <td>3.0</td>\n",
       "      <td>1</td>\n",
       "    </tr>\n",
       "    <tr>\n",
       "      <th>8</th>\n",
       "      <td>9</td>\n",
       "      <td>1.5</td>\n",
       "      <td>0.5</td>\n",
       "      <td>-1</td>\n",
       "    </tr>\n",
       "  </tbody>\n",
       "</table>\n",
       "</div>"
      ],
      "text/plain": [
       "   échantillon  caractère1  caractère2  classe\n",
       "0            1         0.5         2.5       1\n",
       "1            2         0.8         2.8       1\n",
       "2            3         1.5         3.5       1\n",
       "3            4         0.2         0.2      -1\n",
       "4            5         0.6         0.6      -1\n",
       "5            6         1.7         1.7      -1\n",
       "6            7         1.0         4.0       1\n",
       "7            8         0.6         3.0       1\n",
       "8            9         1.5         0.5      -1"
      ]
     },
     "execution_count": 3,
     "metadata": {},
     "output_type": "execute_result"
    }
   ],
   "source": [
    "df1.head(10)"
   ]
  },
  {
   "cell_type": "markdown",
   "metadata": {
    "collapsed": true
   },
   "source": [
    "Identifier la colonne qui servira à classifier et qui ne prend donc que 2 valeurs."
   ]
  },
  {
   "attachments": {},
   "cell_type": "markdown",
   "metadata": {},
   "source": [
    "La colonne qui nous servira a classifier dans ce premier dataset est la colonne `classe` qui ne prend que 2 valeurs : -1 et 1."
   ]
  },
  {
   "attachments": {},
   "cell_type": "markdown",
   "metadata": {},
   "source": [
    "### 2. Visualisation"
   ]
  },
  {
   "cell_type": "markdown",
   "metadata": {
    "collapsed": true
   },
   "source": [
    "Visualiser les deux premières colonnes qui ont des valeurs numériques, sous forme d'un nuage de points (avec un marqueur différent en fonction de la valeur servant à classifier)."
   ]
  },
  {
   "cell_type": "code",
   "execution_count": 4,
   "metadata": {},
   "outputs": [],
   "source": [
    "def visu(df_):\n",
    "    value=(df_['classe']>0)\n",
    "    df_['color']= np.where( value==True , \"red\", \"blue\")\n",
    "\n",
    "    plt.scatter(df_.iloc[:,1],df_.iloc[:,2],color= df_.color)\n",
    "    plt.show()"
   ]
  },
  {
   "cell_type": "code",
   "execution_count": 5,
   "metadata": {},
   "outputs": [
    {
     "data": {
      "image/png": "[encoded data removed]",
      "text/plain": [
       "<Figure size 640x480 with 1 Axes>"
      ]
     },
     "metadata": {},
     "output_type": "display_data"
    }
   ],
   "source": [
    "visu(df1)"
   ]
  },
  {
   "cell_type": "code",
   "execution_count": 6,
   "metadata": {
    "scrolled": true
   },
   "outputs": [
    {
     "data": {
      "text/html": [
       "<div>\n",
       "<style scoped>\n",
       "    .dataframe tbody tr th:only-of-type {\n",
       "        vertical-align: middle;\n",
       "    }\n",
       "\n",
       "    .dataframe tbody tr th {\n",
       "        vertical-align: top;\n",
       "    }\n",
       "\n",
       "    .dataframe thead th {\n",
       "        text-align: right;\n",
       "    }\n",
       "</style>\n",
       "<table border=\"1\" class=\"dataframe\">\n",
       "  <thead>\n",
       "    <tr style=\"text-align: right;\">\n",
       "      <th></th>\n",
       "      <th>échantillon</th>\n",
       "      <th>caractère1</th>\n",
       "      <th>caractère2</th>\n",
       "      <th>classe</th>\n",
       "      <th>color</th>\n",
       "    </tr>\n",
       "  </thead>\n",
       "  <tbody>\n",
       "    <tr>\n",
       "      <th>0</th>\n",
       "      <td>1</td>\n",
       "      <td>0.5</td>\n",
       "      <td>2.5</td>\n",
       "      <td>1</td>\n",
       "      <td>red</td>\n",
       "    </tr>\n",
       "    <tr>\n",
       "      <th>1</th>\n",
       "      <td>2</td>\n",
       "      <td>0.8</td>\n",
       "      <td>2.8</td>\n",
       "      <td>1</td>\n",
       "      <td>red</td>\n",
       "    </tr>\n",
       "    <tr>\n",
       "      <th>2</th>\n",
       "      <td>3</td>\n",
       "      <td>1.5</td>\n",
       "      <td>3.5</td>\n",
       "      <td>1</td>\n",
       "      <td>red</td>\n",
       "    </tr>\n",
       "    <tr>\n",
       "      <th>3</th>\n",
       "      <td>4</td>\n",
       "      <td>0.2</td>\n",
       "      <td>0.2</td>\n",
       "      <td>-1</td>\n",
       "      <td>blue</td>\n",
       "    </tr>\n",
       "    <tr>\n",
       "      <th>4</th>\n",
       "      <td>5</td>\n",
       "      <td>0.6</td>\n",
       "      <td>0.6</td>\n",
       "      <td>-1</td>\n",
       "      <td>blue</td>\n",
       "    </tr>\n",
       "    <tr>\n",
       "      <th>5</th>\n",
       "      <td>6</td>\n",
       "      <td>1.7</td>\n",
       "      <td>1.7</td>\n",
       "      <td>-1</td>\n",
       "      <td>blue</td>\n",
       "    </tr>\n",
       "    <tr>\n",
       "      <th>6</th>\n",
       "      <td>7</td>\n",
       "      <td>1.0</td>\n",
       "      <td>4.0</td>\n",
       "      <td>1</td>\n",
       "      <td>red</td>\n",
       "    </tr>\n",
       "    <tr>\n",
       "      <th>7</th>\n",
       "      <td>8</td>\n",
       "      <td>0.6</td>\n",
       "      <td>3.0</td>\n",
       "      <td>1</td>\n",
       "      <td>red</td>\n",
       "    </tr>\n",
       "    <tr>\n",
       "      <th>8</th>\n",
       "      <td>9</td>\n",
       "      <td>1.5</td>\n",
       "      <td>0.5</td>\n",
       "      <td>-1</td>\n",
       "      <td>blue</td>\n",
       "    </tr>\n",
       "  </tbody>\n",
       "</table>\n",
       "</div>"
      ],
      "text/plain": [
       "   échantillon  caractère1  caractère2  classe color\n",
       "0            1         0.5         2.5       1   red\n",
       "1            2         0.8         2.8       1   red\n",
       "2            3         1.5         3.5       1   red\n",
       "3            4         0.2         0.2      -1  blue\n",
       "4            5         0.6         0.6      -1  blue\n",
       "5            6         1.7         1.7      -1  blue\n",
       "6            7         1.0         4.0       1   red\n",
       "7            8         0.6         3.0       1   red\n",
       "8            9         1.5         0.5      -1  blue"
      ]
     },
     "execution_count": 6,
     "metadata": {},
     "output_type": "execute_result"
    }
   ],
   "source": [
    "df1.head(10)"
   ]
  },
  {
   "cell_type": "markdown",
   "metadata": {},
   "source": [
    "Regarder aussi les fichiers **data2**, **data3** et **data4**"
   ]
  },
  {
   "cell_type": "code",
   "execution_count": 7,
   "metadata": {},
   "outputs": [],
   "source": [
    "df2 = pd.read_excel('data/data2.xlsx')\n",
    "df3 = pd.read_excel('data/data3.xlsx')\n",
    "df4 = pd.read_excel('data/data4.xlsx')"
   ]
  },
  {
   "cell_type": "code",
   "execution_count": 8,
   "metadata": {},
   "outputs": [
    {
     "data": {
      "image/png": "[encoded data removed]",
      "text/plain": [
       "<Figure size 640x480 with 1 Axes>"
      ]
     },
     "metadata": {},
     "output_type": "display_data"
    }
   ],
   "source": [
    "visu(df2)"
   ]
  },
  {
   "cell_type": "code",
   "execution_count": 9,
   "metadata": {},
   "outputs": [
    {
     "data": {
      "image/png": "[encoded data removed]",
      "text/plain": [
       "<Figure size 640x480 with 1 Axes>"
      ]
     },
     "metadata": {},
     "output_type": "display_data"
    }
   ],
   "source": [
    "visu(df3)"
   ]
  },
  {
   "cell_type": "code",
   "execution_count": 10,
   "metadata": {},
   "outputs": [
    {
     "data": {
      "image/png": "[encoded data removed]",
      "text/plain": [
       "<Figure size 640x480 with 1 Axes>"
      ]
     },
     "metadata": {},
     "output_type": "display_data"
    }
   ],
   "source": [
    "visu(df4)"
   ]
  },
  {
   "cell_type": "markdown",
   "metadata": {},
   "source": [
    "## II- SVM - le cas linéaire\n",
    "\n",
    "Nous allons ici rappeler les points essentiels qui ont été vus en cours et qui serviront à l'implémentation de l'algorithme.\n",
    "\n",
    "On a une population de $n$ individus.\n",
    "\n",
    "On dispose, pour chaque individu $i$, de ses caractéristiques $X_i \\in \\mathbb{R}^p$ et d'un indicateur de décision $y_i \\in \\{ -1 ; +1\\}$.\n",
    "\n",
    "Le problème de SVM linéaire revient à chercher $(\\omega,b)\\in \\mathbb{R}^p \\times \\mathbb{R}$ tel que $(\\omega,b)$ soit solution du problème d'optimisation sous contraintes:\n",
    "\n",
    "$\\displaystyle (HM):\\quad \\min_{\\begin{matrix} \\omega,b \\, t.q. \\\\ y_i\\left( \\omega . X_i  - b\\right) \\ge 1 \\\\ 1\\le i \\le N \\end{matrix}}\\frac{1}{2}||\\omega||^2$.\n",
    "\n",
    "Géométriquement cela revient à séparer les points $X_i$ par des hyperplans:\n",
    "- $\\omega . X  - b = 0$ qui sera l'hyperplan de décision.\n",
    "- Les deux hyperplans $\\omega . X  - b = +1$ et $\\omega . X  - b = -1 $ étant espacés au maximum tout en gardant les points tels que $y_i=+1$ et $y_i=-1$ à l'extérieur de la bande qu'ils délimitent.\n",
    "\n",
    "Le problème ci-dessus est le **problème primal**. Nous avons vu en cours sur l'optimisation sous contrainte (et après introduction du Lagrangien), que ce problème est équivalent au **problème dual**\n",
    "\n",
    "$\\displaystyle (HM*):\\quad \\min_{\\begin{matrix} \\alpha_i \\ge 0 \\\\ \\sum \\alpha_i y_i =0 \\end{matrix}}\\frac{1}{2}\\sum_{1\\le i,j \\le N} \\alpha_i \\alpha_j y_i y_j X_i^TX_j-\\sum_{1\\le i \\le N}\\alpha_i$.\n",
    "\n",
    "où les inconnues sont les $(\\alpha_1,\\cdots, \\alpha_n)$ qui sont les multiplicateurs de Lagrange.\n",
    "\n",
    "Si on note $G=\\big(y_i y_j X_i ^T X_j \\big)_{\\begin{matrix} 1 \\le i \\le N \\\\ j \\le i \\le N \\end{matrix}}$, la matrice de Gram, le problème s'écrit:\n",
    "\n",
    "$\\displaystyle (HM*):\\quad \\min_{\\begin{matrix} \\alpha_i \\ge 0 \\\\ \\sum \\alpha_i y_i =0 \\end{matrix}}\\frac{1}{2} \\alpha^TG\\alpha-\\sum_{1\\le i \\le N}\\alpha_i$.\n",
    "\n",
    "Ce problème peut se résoudre en utilisant par exemple un algorithme de gradient projeté car $\\displaystyle \\{ \\alpha \\in \\mathbb{R}^N \\, t.q. \\, \\alpha_i \\ge 0 \\, , \\, 1 \\le i \\le N  \\, et \\, \\sum_{i=0}^n \\alpha_i y_i =0 \\}$ est un convexe sur lequel il est \"relativement\" facile de projeter un vecteur de $ \\mathbb{R}^N$\n"
   ]
  },
  {
   "cell_type": "markdown",
   "metadata": {
    "collapsed": true
   },
   "source": [
    "Une fois les $\\alpha=(\\alpha_1,\\cdots,\\alpha_N)$ calculés, on se souvient que comme on est situé au niveau du point selle du Lagrangien, on a aussi $\\displaystyle \\omega = \\sum_{1 \\le i \\le N}\\alpha_i yi X_i$. Cela nous permet de calculer $\\omega$\n",
    "\n",
    "On remarque que beaucoup de $\\alpha_i$ sont nuls, ce qui signifient que ces contraintes ne sont pas qualifiées (au sens de la théorie du Lagrangien). Les $i$ qui correspondent à des $\\alpha_i \\neq 0$ correspondent aux Support Vectors (c'est à dire aux $X_i$ situés sur les hyperplans définissant la marge) et donc $F(X_i) = \\pm 1$ pour ces vecteurs.\n",
    "\n",
    "On pourra se servir de la remarque ci-dessus pour calculer $b$.\n",
    "\n",
    "On aura donc ainsi entièrement défini notre hyperplan qui constitue la \"decision boundary\".\n",
    "\n",
    "**On peut aussi voir les choses un peu différemment (et cela sera utile plus tard pour traiter le cas non linéaire):**\n",
    "- En introduisant la fonction $\\displaystyle F(X) = \\sum_{1 \\le i \\le N}\\alpha_i yi X_i^T X - b$ qui va de $\\mathbb{R}^m \\times \\mathbb{R}^m \\to \\mathbb{R}$.\n",
    "\n",
    "- On a $C_0 F$ qui est l'hyperplan de séparation entre les points $+1$ et les points $-1$. et $C_{-1} F$ et $C_{+1} F$ sont les deux hyperplans de marge (on rappelle que $C_k F$ est la courbe de niveau de valeur $k$ pour la fonction $F$, c'est à dire $\\{ X \\in \\mathbb{R}^m \\, t.q. F(X)=k \\}$ ).\n"
   ]
  },
  {
   "cell_type": "markdown",
   "metadata": {},
   "source": [
    "### 1. Le gradient projeté"
   ]
  },
  {
   "cell_type": "markdown",
   "metadata": {
    "collapsed": true
   },
   "source": [
    "Créer un algorithme de descente de gradient (par exemple récupéré dans le TP de descente de gradient de OCVX1).\n",
    "Le modifier pour qu'à chaque pas de descente, le gradient soit projeté sur $\\{ \\alpha \\in \\mathbb{R}^N \\, t.q. \\, \\alpha_i \\ge 0 \\, , \\, 1 \\le i \\le N  \\, et \\, \\sum_{i=0}^n \\alpha_i y_i =0 \\}$.\n"
   ]
  },
  {
   "cell_type": "code",
   "execution_count": 11,
   "metadata": {},
   "outputs": [],
   "source": [
    "def partial(f, x, i=0, dx=1e-6):\n",
    "    \"\"\"Computes i-th partial derivative of f at point x.\n",
    "    \n",
    "    Args:\n",
    "        f: objective function.\n",
    "        x: point at which partial derivative is computed.\n",
    "        i: coordinate along which derivative is computed.\n",
    "        dx: slack for finite difference.\n",
    "        \n",
    "    Output:\n",
    "        (float)\n",
    "\n",
    "    \"\"\"\n",
    "    h = np.zeros(x.size)\n",
    "    h[i] = dx\n",
    "    return (f(x + h) - f(x - h)) / (2*dx)"
   ]
  },
  {
   "cell_type": "code",
   "execution_count": 12,
   "metadata": {},
   "outputs": [],
   "source": [
    "def gradient(f, x, dx=1e-6):\n",
    "    \"\"\"Computes gradient of f at point x.\n",
    "    \n",
    "    Args:\n",
    "        f: objective function.\n",
    "        x: point at which gradient is computed.\n",
    "        dx: slack for finite difference of partial derivatives.\n",
    "        \n",
    "    Output:\n",
    "        (ndarray) of size domain of f.\n",
    "        \n",
    "    \"\"\"\n",
    "    dim=x.size\n",
    "    grad=np.zeros(dim)\n",
    "    for i in range(dim):\n",
    "        grad[i]=partial(f,x,i,dx)\n",
    "    \n",
    "    return grad"
   ]
  },
  {
   "cell_type": "code",
   "execution_count": 13,
   "metadata": {},
   "outputs": [],
   "source": [
    "# Cette fonction génère la taille du pas optimal vérifiant le critère d'Amijo\n",
    "\n",
    "def backtrack(x0, f , dir_x, alpha = 0.4, beta = 0.8):\n",
    "    \"\"\"\n",
    "    Description: \n",
    "    Parameters:\n",
    "    x0: point actuel\n",
    "    f: fonction à minimiser\n",
    "    dir_x: direction dans laquelle on souhaite aller\n",
    "    \n",
    "    Output\n",
    "    valeur du pas optimal\n",
    "    \"\"\"\n",
    "    t=1\n",
    "    grad=gradient(f,x0)\n",
    "\n",
    "    # On teste qu'on est bien dans une direction de descente\n",
    "    if dir_x.T @ grad < 0:        \n",
    "        while True:\n",
    "            if f(x0 + t*dir_x) < f(x0) + alpha * t * dir_x.T @ grad:\n",
    "                break\n",
    "            t =t * beta\n",
    "    return t"
   ]
  },
  {
   "cell_type": "markdown",
   "metadata": {
    "collapsed": true
   },
   "source": [
    "**C'est la fonction ci-dessous qu'il faut modifier**"
   ]
  },
  {
   "cell_type": "code",
   "execution_count": 29,
   "metadata": {},
   "outputs": [],
   "source": [
    "def projection(x, y):\n",
    "    \"\"\"\n",
    "    Description:\n",
    "    Projection sur le plan somme(alpha_i yi)=0 et R+^n\n",
    "    \n",
    "    Parameters:\n",
    "    x: point à projeter\n",
    "    y: vecteur de contrainte\n",
    "    \n",
    "    Output:\n",
    "    x_p: point projeté\n",
    "    \"\"\"\n",
    "    x_p = x - ((x @ y) / np.linalg.norm(y)**2) * y\n",
    "    return (x_p > 0) * x_p\n",
    "\n",
    "\n",
    "def desc_grad_opti_proj(f, y, p0, eps=1E-5):\n",
    "    x = [np.array(p0)]\n",
    "\n",
    "    while True:\n",
    "\n",
    "        descente = -gradient(f,x[-1])\n",
    "        mu = backtrack(x[-1], f, descente)\n",
    "        # x.append(x[-1] + mu * descente)\n",
    "        # modifier la ligne ci-dessus pour projeter sur le convexe R+^n et le plan somme(alpha_i yi)=0 \n",
    "        x.append(projection(x[-1] + mu * descente, y))\n",
    "\n",
    "        # test de convergence\n",
    "        if np.square(x[-1]-x[-2]).sum() < eps**2 :\n",
    "            break\n",
    "        # tests de protection\n",
    "        if np.square(x[-1] - x[-2]).sum() > 1E9:  # au cas où on diverge\n",
    "            print(\"DIVERGE\")\n",
    "            break\n",
    "        if len(x) > 30000:  # c'est trop long, je crains la boucle infinie\n",
    "            print('Trop long, boucle infinie ?')\n",
    "            break\n",
    "    return np.array(x)"
   ]
  },
  {
   "cell_type": "markdown",
   "metadata": {},
   "source": [
    "### 2. Résolution du problème dual"
   ]
  },
  {
   "cell_type": "markdown",
   "metadata": {
    "collapsed": true
   },
   "source": [
    "Créer une fonction prepa_donnees qui prépare les données dont on a besoin (df,X,y,Gram) pour la résolution du problème dual à partir d'un fichier \"nom_data\"."
   ]
  },
  {
   "cell_type": "code",
   "execution_count": 30,
   "metadata": {},
   "outputs": [],
   "source": [
    "def prepa_donnees(nom_data):\n",
    "    \"\"\"\n",
    "    Description: \n",
    "    Parameters:\n",
    "    nom_data: nom du fichier dans lequel aller chercher les données\n",
    "    \n",
    "    Output\n",
    "    df: dataframe panda contenant les données\n",
    "    X: un tableau numpy de taille (nb_individus x nb_caractéristiques) contenant les caractéristiques des individus\n",
    "    y: un vecteur numpy de taille (nb_individus) contenant les classificateurs (+1 ou -1)\n",
    "    Gram: la matrice de Gram du problème de taille (nb_individus x nb_individus)\n",
    "    \"\"\"\n",
    "    df = pd.read_excel(nom_data)\n",
    "    X = df.iloc[:,1:3].to_numpy()\n",
    "    y = df.iloc[:,-1].to_numpy()\n",
    "    Gram = np.outer(y, y) * (X @ X.T)\n",
    "    return df,X,y,Gram"
   ]
  },
  {
   "cell_type": "markdown",
   "metadata": {
    "collapsed": true
   },
   "source": [
    "Définir une fonction qui définit la fonctionnelle à minimiser $\\displaystyle J(\\alpha)=  \\frac{1}{2} \\alpha^TG\\alpha-\\sum_{1\\le i \\le N}\\alpha_i$"
   ]
  },
  {
   "cell_type": "code",
   "execution_count": 31,
   "metadata": {},
   "outputs": [],
   "source": [
    "def J(alpha, Gram):\n",
    "    \"\"\"\n",
    "    Description: \n",
    "    Parameters:\n",
    "    alpha: vecteur de taille (nb_individus) contenant les poids des individus\n",
    "    \n",
    "    Output\n",
    "    J: la valeur de la fonction objectif\n",
    "    \"\"\"\n",
    "    return 0.5 * alpha.T @ Gram @ alpha - alpha.sum()"
   ]
  },
  {
   "cell_type": "markdown",
   "metadata": {
    "collapsed": true
   },
   "source": [
    "Avec les modules que vous venez de créer, vous pouvez maintenant calculer les valeurs de $\\alpha_1,\\cdots,\\alpha_N$ comme étant la solution du problème $(HM*)$. Commencez avec le fichier **data1**\n",
    "\n",
    "\n"
   ]
  },
  {
   "cell_type": "code",
   "execution_count": 32,
   "metadata": {},
   "outputs": [
    {
     "name": "stdout",
     "output_type": "stream",
     "text": [
      "[ 0.61758825  0.38219506 -0.         -0.          0.06383189  0.92694025\n",
      " -0.         -0.         -0.        ]\n"
     ]
    }
   ],
   "source": [
    "df, X, y, Gram = prepa_donnees('data/data1.xlsx')\n",
    "alpha = desc_grad_opti_proj(lambda alpha: J(alpha, Gram), y, np.zeros(len(y)))[-1]\n",
    "print(alpha)"
   ]
  },
  {
   "cell_type": "markdown",
   "metadata": {
    "collapsed": true
   },
   "source": [
    "Calculer maintenant $\\omega$ et $b$. Ici on aura $\\omega = (a_1,a_2)$ et notre hyperplan se limitera à la droite $a_1 x + a_2 y +b=0$.\n"
   ]
  },
  {
   "cell_type": "code",
   "execution_count": 33,
   "metadata": {},
   "outputs": [],
   "source": [
    "def calcul_w(alpha, X, y):\n",
    "    \"\"\"\n",
    "    Description: \n",
    "    Parameters:\n",
    "    alpha: vecteur de taille (nb_individus) contenant les poids des individus\n",
    "    X: un tableau numpy de taille (nb_individus x nb_caractéristiques) contenant les caractéristiques des individus\n",
    "    y: un vecteur numpy de taille (nb_individus) contenant les classificateurs (+1 ou -1)\n",
    "    \n",
    "    Output\n",
    "    w: vecteur de taille (nb_caractéristiques) contenant les coefficients de la droite de séparation\n",
    "    \"\"\"\n",
    "    return (alpha * y) @ X"
   ]
  },
  {
   "cell_type": "code",
   "execution_count": 34,
   "metadata": {},
   "outputs": [],
   "source": [
    "w = calcul_w(alpha, X, y)"
   ]
  },
  {
   "cell_type": "code",
   "execution_count": 35,
   "metadata": {},
   "outputs": [
    {
     "data": {
      "text/plain": [
       "(-0.9995473858146844, 1.0000192478506498)"
      ]
     },
     "execution_count": 35,
     "metadata": {},
     "output_type": "execute_result"
    }
   ],
   "source": [
    "a1 = w[0]\n",
    "a2 = w[1]\n",
    "a1, a2"
   ]
  },
  {
   "cell_type": "code",
   "execution_count": 49,
   "metadata": {},
   "outputs": [],
   "source": [
    "def calcul_b(alpha, X, y, w):\n",
    "    \"\"\"\n",
    "    Description: \n",
    "    Parameters:\n",
    "    alpha: vecteur de taille (nb_individus) contenant les poids des individus\n",
    "    X: un tableau numpy de taille (nb_individus x nb_caractéristiques) contenant les caractéristiques des individus\n",
    "    y: un vecteur numpy de taille (nb_individus) contenant les classificateurs (+1 ou -1)\n",
    "    \n",
    "    Output\n",
    "    b: le coefficient de la droite de séparation\n",
    "    \"\"\"\n",
    "    return (y - X @ w).sum() / len(y)"
   ]
  },
  {
   "cell_type": "code",
   "execution_count": 50,
   "metadata": {},
   "outputs": [
    {
     "name": "stdout",
     "output_type": "stream",
     "text": [
      "-1.0449070909720963\n"
     ]
    }
   ],
   "source": [
    "b = calcul_b(alpha, X, y, w)\n",
    "print(b)"
   ]
  },
  {
   "cell_type": "markdown",
   "metadata": {
    "collapsed": true
   },
   "source": [
    "Visualisez les résultats en reprenant la visualisation du nuage de nos points réalisé au $\\bf{I-2}$ et en rajoutant les hyperplans caractéristiques qu'on vient de calculer."
   ]
  },
  {
   "cell_type": "markdown",
   "metadata": {
    "collapsed": true
   },
   "source": [
    "A ce stade ... si tout se passe bien vous avez dû trouver, en utilisant les données de **data1**, que la frontière de décision est la droite $y=x+1$ et que les deux frontières pour la marge maximum sont les droites  $y=x$ et $y=x+2$."
   ]
  },
  {
   "cell_type": "code",
   "execution_count": 53,
   "metadata": {},
   "outputs": [],
   "source": [
    "def visu_front(df,a1_,a2_,b_):\n",
    "    value=(df['classe']>0)\n",
    "    df['color']= np.where(value==True , \"red\", \"blue\")\n",
    "\n",
    "    plt.scatter(df.iloc[:,1],df.iloc[:,2],color= df.color)\n",
    "    x=np.linspace(0,10,100)\n",
    "    y=-(a1_*x+b_)/a2_\n",
    "    plt.plot(x,y)\n",
    "    plt.show()"
   ]
  },
  {
   "cell_type": "code",
   "execution_count": 54,
   "metadata": {},
   "outputs": [
    {
     "data": {
      "image/png": "[encoded data removed]",
      "text/plain": [
       "<Figure size 640x480 with 1 Axes>"
      ]
     },
     "metadata": {},
     "output_type": "display_data"
    }
   ],
   "source": [
    "visu_front(df,a1,a2,b)"
   ]
  },
  {
   "cell_type": "markdown",
   "metadata": {},
   "source": [
    "### 3. Cas plus large et cas non séparable linéairement"
   ]
  },
  {
   "cell_type": "markdown",
   "metadata": {
    "collapsed": true
   },
   "source": [
    "Tester ce que vous venez de faire sur **data2** et **data3**.\n",
    "Que remarquez vous?"
   ]
  },
  {
   "cell_type": "code",
   "execution_count": 55,
   "metadata": {},
   "outputs": [
    {
     "name": "stdout",
     "output_type": "stream",
     "text": [
      "Trop long, boucle infinie ?\n"
     ]
    },
    {
     "data": {
      "image/png": "[encoded data removed]",
      "text/plain": [
       "<Figure size 640x480 with 1 Axes>"
      ]
     },
     "metadata": {},
     "output_type": "display_data"
    }
   ],
   "source": [
    "df2, X2, y2, Gram2 = prepa_donnees('data/data2.xlsx')\n",
    "alpha2 = desc_grad_opti_proj(lambda alpha: J(alpha, Gram2), y2, np.zeros(len(y2)))[-1]\n",
    "w2 = calcul_w(alpha2, X2, y2)\n",
    "b2 = calcul_b(alpha2, X2, y2, w2)\n",
    "visu_front(df2, w2[0], w2[1], b2)"
   ]
  },
  {
   "cell_type": "code",
   "execution_count": 56,
   "metadata": {},
   "outputs": [
    {
     "name": "stdout",
     "output_type": "stream",
     "text": [
      "Trop long, boucle infinie ?\n"
     ]
    },
    {
     "data": {
      "image/png": "[encoded data removed]",
      "text/plain": [
       "<Figure size 640x480 with 1 Axes>"
      ]
     },
     "metadata": {},
     "output_type": "display_data"
    }
   ],
   "source": [
    "df3, X3, y3, Gram3 = prepa_donnees('data/data3.xlsx')\n",
    "alpha3 = desc_grad_opti_proj(lambda alpha: J(alpha, Gram3), y3, np.ones(len(y3)))[-1]\n",
    "w3 = calcul_w(alpha3, X3, y3)\n",
    "b3 = calcul_b(alpha3, X3, y3, w3)\n",
    "visu_front(df3, w3[0], w3[1], b3)"
   ]
  },
  {
   "attachments": {},
   "cell_type": "markdown",
   "metadata": {},
   "source": [
    "## III - SVM - le cas non linéaire - \"the Kernel Trick\"\n",
    "\n",
    "Comme nous avons vu en TD, on peut chercher à séparer nos points avec des fonctions plus compliquées que des hyperplans en se projetant dans un espace de dimension plus grande.\n",
    "\n",
    "Ce qui permet de faire cela sans que cela représente un coût trop élevé est la remarque que cette projection dans un espace de dimension plus grande n'a pas besoin d'être explicitée. On n'aura besoin que d'une expression des produits scalaires des projetés.\n",
    "\n",
    "En pratique on se donne donc un noyau $K: \\mathbb{R}^N \\times \\mathbb{R}^N \\to \\mathbb{R}$ de la forme $K(q,q')$ qui possède la propriété d'être symétrique et défini positif.\n",
    "\n",
    "On est ramené au même propblème dual que précédemment en remplaçant les produits scalaires par ce noyau.\n",
    "\n",
    "Le problème (dual) à résoudre est donc:\n",
    "\n",
    "$\\displaystyle (HM**):\\quad \\min_{\\begin{matrix} \\alpha_i \\ge 0 \\\\ \\sum \\alpha_i y_i =0 \\end{matrix}}\\frac{1}{2}\\sum_{1\\le i,j \\le N} \\alpha_i \\alpha_j y_i y_j K(X_i,X_j)-\\sum_{1\\le i \\le N}\\alpha_i$.\n",
    "\n",
    "où les inconnues sont les $(\\alpha_1,\\cdots, \\alpha_n)$ qui sont les multiplicateurs de Lagrange.\n",
    "\n",
    "Si on note $G=\\big(y_i y_j K(X_i,X_j) \\big)_{\\begin{matrix} 1 \\le i \\le N \\\\ j \\le i \\le N \\end{matrix}}$, la matrice de Gram, le problème s'écrit:\n",
    "\n",
    "$\\displaystyle (HM**):\\quad \\min_{\\begin{matrix} \\alpha_i \\ge 0 \\\\ \\sum \\alpha_i y_i =0 \\end{matrix}}\\frac{1}{2} \\alpha^TG\\alpha-\\sum_{1\\le i \\le N}\\alpha_i$."
   ]
  },
  {
   "cell_type": "markdown",
   "metadata": {
    "collapsed": true
   },
   "source": [
    "Une fois les $\\alpha=(\\alpha_1,\\cdots,\\alpha_N)$ calculés, on introduit la fonction $\\displaystyle F(X) = \\sum_{1 \\le i \\le N}\\alpha_i yi K(X_i, X)$ qui va de $\\mathbb{R}^m \\times \\mathbb{R}^m \\to \\mathbb{R}$.\n",
    "\n",
    "On a $C_0 F$ qui est l'hyperplan de séparation entre les points $+1$ et les points $-1$. et $C_{-1} F$ et $C_{+1} F$ sont les deux hyperplans de marge (on rappelle que $C_k F$ est la courbe de niveau de valeur $k$ pour la fonction $F$, c'est à dire $\\{ X \\in \\mathbb{R}^m \\, t.q. F(X)=k \\}$ ).\n"
   ]
  },
  {
   "cell_type": "markdown",
   "metadata": {},
   "source": [
    "### 1. Introduire la méthode du Kernel et tester sur un cas simple"
   ]
  },
  {
   "cell_type": "markdown",
   "metadata": {
    "collapsed": true
   },
   "source": [
    "Définir le noyau polynomial $K(q,q')=(1+q.q')^d$. Prendre d=2 pour commencer."
   ]
  },
  {
   "cell_type": "code",
   "execution_count": 57,
   "metadata": {},
   "outputs": [],
   "source": [
    "def K(q1,q2,d=6):\n",
    "    \"\"\"\n",
    "    Description: \n",
    "    Parameters:\n",
    "    q1: vecteur de taille (nb_caractéristiques) contenant les caractéristiques de l'individu 1\n",
    "    q2: vecteur de taille (nb_caractéristiques) contenant les caractéristiques de l'individu 2\n",
    "    d: le degré du polynôme\n",
    "    \n",
    "    Output\n",
    "    K: la valeur de la fonction kernel\n",
    "    \"\"\"\n",
    "    return (1 + q1 @ q2)**d"
   ]
  },
  {
   "cell_type": "code",
   "execution_count": 58,
   "metadata": {},
   "outputs": [
    {
     "data": {
      "text/plain": [
       "70.56"
      ]
     },
     "execution_count": 58,
     "metadata": {},
     "output_type": "execute_result"
    }
   ],
   "source": [
    "K(X[0],X[1], d=2)"
   ]
  },
  {
   "cell_type": "markdown",
   "metadata": {
    "collapsed": true
   },
   "source": [
    "Modifier la fonction prepa_donnees qui prépare les données dont on a besoin (df,X,y,Gram) pour la résolution du problème dual à partir d'un fichier \"nom_data\"."
   ]
  },
  {
   "cell_type": "code",
   "execution_count": 59,
   "metadata": {},
   "outputs": [],
   "source": [
    "def prepa_donnees_ker(nom_data):\n",
    "    \"\"\"\n",
    "    Description: \n",
    "    Parameters:\n",
    "    nom_data: nom du fichier dans lequel aller chercher les données\n",
    "    \n",
    "    Output\n",
    "    df: dataframe panda contenant les données\n",
    "    X: un tableau numpy de taille (nb_individus x nb_caractéristiques) contenant les caractéristiques des individus\n",
    "    y: un vecteur numpy de taille (nb_individus) contenant les classificateurs (+1 ou -1)\n",
    "    Gram: la matrice Gram du problème de taille (nb_individus x nb_individus)\n",
    "    \"\"\"\n",
    "    df = pd.read_excel(nom_data)\n",
    "    X = df.iloc[:,1:3].to_numpy()\n",
    "    y = df.iloc[:,-1].to_numpy()\n",
    "    Gram = np.zeros((len(y),len(y)))\n",
    "    N = len(y)\n",
    "    for i in range(N):\n",
    "        for j in range(N):\n",
    "            Gram[i,j] = K(X[i],X[j]) * y[i] * y[j]\n",
    "    return df,X,y,Gram"
   ]
  },
  {
   "cell_type": "code",
   "execution_count": 60,
   "metadata": {},
   "outputs": [
    {
     "data": {
      "text/plain": [
       "array([[ 1.77978516e+05,  3.51298032e+05,  1.34009564e+06,\n",
       "        -1.67772160e+01, -4.81890304e+02, -5.15203744e+04,\n",
       "         2.31306077e+06,  4.64404087e+05, -7.29000000e+02],\n",
       "       [ 3.51298032e+05,  7.25855253e+05,  2.98598400e+06,\n",
       "        -2.58923030e+01, -9.95686218e+02, -1.30280664e+05,\n",
       "         4.82680900e+06,  9.30125750e+05, -2.17678234e+03],\n",
       "       [ 1.34009564e+06,  2.98598400e+06,  1.38672450e+07,\n",
       "        -6.40000000e+01, -4.09600000e+03, -7.35091891e+05,\n",
       "         2.01791870e+07,  3.63521508e+06, -1.56250000e+04],\n",
       "       [-1.67772160e+01, -2.58923030e+01, -6.40000000e+01,\n",
       "         1.58687432e+00,  3.63521508e+00,  2.24830740e+01,\n",
       "        -6.40000000e+01, -2.58923030e+01,  7.52953600e+00],\n",
       "       [-4.81890304e+02, -9.95686218e+02, -4.09600000e+03,\n",
       "         3.63521508e+00,  2.58923030e+01,  7.89298907e+02,\n",
       "        -4.09600000e+03, -9.95686218e+02,  1.13379904e+02],\n",
       "       [-5.15203744e+04, -1.30280664e+05, -7.35091891e+05,\n",
       "         2.24830740e+01,  7.89298907e+02,  9.71355410e+04,\n",
       "        -7.35091891e+05, -1.30280664e+05,  7.25631386e+03],\n",
       "       [ 2.31306077e+06,  4.82680900e+06,  2.01791870e+07,\n",
       "        -6.40000000e+01, -4.09600000e+03, -7.35091891e+05,\n",
       "         3.40122240e+07,  6.32751889e+06, -8.30376562e+03],\n",
       "       [ 4.64404087e+05,  9.30125750e+05,  3.63521508e+06,\n",
       "        -2.58923030e+01, -9.95686218e+02, -1.30280664e+05,\n",
       "         6.32751889e+06,  1.23639868e+06, -1.54480442e+03],\n",
       "       [-7.29000000e+02, -2.17678234e+03, -1.56250000e+04,\n",
       "         7.52953600e+00,  1.13379904e+02,  7.25631386e+03,\n",
       "        -8.30376562e+03, -1.54480442e+03,  1.83826562e+03]])"
      ]
     },
     "execution_count": 60,
     "metadata": {},
     "output_type": "execute_result"
    }
   ],
   "source": [
    "prepa_donnees_ker('data/data1.xlsx')[3]"
   ]
  },
  {
   "cell_type": "markdown",
   "metadata": {
    "collapsed": true
   },
   "source": [
    "Avec les modules que vous venez de créer, vous pouvez maintenant calculer les valeurs de $\\alpha_1,\\cdots,\\alpha_N$ comme étant la solution du problème $(HM**)$ avec le fichier **data3**.\n",
    "\n",
    "\n"
   ]
  },
  {
   "cell_type": "code",
   "execution_count": 61,
   "metadata": {},
   "outputs": [
    {
     "name": "stdout",
     "output_type": "stream",
     "text": [
      "Trop long, boucle infinie ?\n"
     ]
    },
    {
     "data": {
      "text/plain": [
       "array([ 0.02919364, -0.        , -0.        ,  0.00288704,  0.01564352,\n",
       "        0.00084099,  0.00948443])"
      ]
     },
     "execution_count": 61,
     "metadata": {},
     "output_type": "execute_result"
    }
   ],
   "source": [
    "df3, X3, y3, Gram3 = prepa_donnees_ker('data/data3.xlsx')\n",
    "alpha3 = desc_grad_opti_proj(lambda alpha: J(alpha, Gram3), y3, np.zeros(len(y3)))[-1]\n",
    "alpha3"
   ]
  },
  {
   "cell_type": "markdown",
   "metadata": {
    "collapsed": true
   },
   "source": [
    "Introduire la nouvelle fonction \"séparatrice\" $\\displaystyle F(X) = \\sum_{1 \\le i \\le N}\\alpha_i yi K(X_i, X) - b$ qui va de $\\mathbb{R}^m \\times \\mathbb{R}^m \\to \\mathbb{R}$.\n",
    "\n",
    "$b$ sera calculé en reprenant la remarque que $F(X_i)=\\pm 1$ quand $X_i$ correspond à un Support Vector et donc que $\\alpha_i \\ne 0$."
   ]
  },
  {
   "cell_type": "code",
   "execution_count": 64,
   "metadata": {},
   "outputs": [],
   "source": [
    "def calculate_b(X, y, alpha):\n",
    "  # Initialisation de b à 0\n",
    "  b = 0\n",
    "  print(X)\n",
    "  print(len(alpha))\n",
    "  \n",
    "  print(np.nonzero(alpha[0])[0])\n",
    "  # Détermination des Support Vectors en trouvant les points X_i tels que alpha_i est non nul\n",
    "  support_vectors = X[np.nonzero(alpha)[0]]\n",
    "  \n",
    "  # Pour chaque Support Vector, calculer la valeur de F(X_i) en utilisant la fonction de décision du SVM\n",
    "  for i, x_i in enumerate(support_vectors):\n",
    "    f_xi = 0\n",
    "    for j, x_j in enumerate(X):\n",
    "      f_xi += alpha[j] * y[j] * K(x_i, x_j)\n",
    "    f_xi += b\n",
    "    \n",
    "    # En utilisant la remarque selon laquelle F(X_i) = +/- 1 lorsque X_i est un Support Vector, mettre à jour la valeur de b\n",
    "    if y[i] == 1 and f_xi < 1:\n",
    "      b = 1 - f_xi\n",
    "    elif y[i] == -1 and f_xi > -1:\n",
    "      b = -1 - f_xi\n",
    "  \n",
    "  # Retourner la valeur de b\n",
    "  return b\n",
    "\n",
    "def F_separ(X, y, alpha):\n",
    "    \"\"\"\n",
    "    Description: \n",
    "    Parameters:\n",
    "    X: un tableau numpy de taille (nb_individus x nb_caractéristiques) contenant les caractéristiques\n",
    "    \"\"\"\n",
    "    res = 0\n",
    "    N = len(y)\n",
    "    b = calculate_b(X, y, alpha)\n",
    "    for i in range(N):\n",
    "        res += alpha[i] * y[i] * K(X[i], X)\n",
    "    res -= b\n",
    "    return res"
   ]
  },
  {
   "cell_type": "code",
   "execution_count": 65,
   "metadata": {},
   "outputs": [
    {
     "name": "stdout",
     "output_type": "stream",
     "text": [
      "[[-0.2  0.2]\n",
      " [ 0.2  0.1]\n",
      " [-0.1 -0.2]\n",
      " [ 1.   1. ]\n",
      " [-0.8  0.8]\n",
      " [-1.2 -1. ]\n",
      " [ 0.9 -0.8]]\n",
      "9\n",
      "[0]\n"
     ]
    },
    {
     "ename": "ValueError",
     "evalue": "matmul: Input operand 1 has a mismatch in its core dimension 0, with gufunc signature (n?,k),(k,m?)->(n?,m?) (size 7 is different from 2)",
     "output_type": "error",
     "traceback": [
      "\u001b[0;31m---------------------------------------------------------------------------\u001b[0m",
      "\u001b[0;31mValueError\u001b[0m                                Traceback (most recent call last)",
      "Cell \u001b[0;32mIn[65], line 1\u001b[0m\n\u001b[0;32m----> 1\u001b[0m F_separ(X3, y3, alpha)\n",
      "Cell \u001b[0;32mIn[64], line 37\u001b[0m, in \u001b[0;36mF_separ\u001b[0;34m(X, y, alpha)\u001b[0m\n\u001b[1;32m     35\u001b[0m b \u001b[39m=\u001b[39m calculate_b(X, y, alpha)\n\u001b[1;32m     36\u001b[0m \u001b[39mfor\u001b[39;00m i \u001b[39min\u001b[39;00m \u001b[39mrange\u001b[39m(N):\n\u001b[0;32m---> 37\u001b[0m     res \u001b[39m+\u001b[39m\u001b[39m=\u001b[39m alpha[i] \u001b[39m*\u001b[39m y[i] \u001b[39m*\u001b[39m K(X[i], X)\n\u001b[1;32m     38\u001b[0m res \u001b[39m-\u001b[39m\u001b[39m=\u001b[39m b\n\u001b[1;32m     39\u001b[0m \u001b[39mreturn\u001b[39;00m res\n",
      "Cell \u001b[0;32mIn[57], line 12\u001b[0m, in \u001b[0;36mK\u001b[0;34m(q1, q2, d)\u001b[0m\n\u001b[1;32m      1\u001b[0m \u001b[39mdef\u001b[39;00m \u001b[39mK\u001b[39m(q1,q2,d\u001b[39m=\u001b[39m\u001b[39m6\u001b[39m):\n\u001b[1;32m      2\u001b[0m     \u001b[39m\"\"\"\u001b[39;00m\n\u001b[1;32m      3\u001b[0m \u001b[39m    Description: \u001b[39;00m\n\u001b[1;32m      4\u001b[0m \u001b[39m    Parameters:\u001b[39;00m\n\u001b[0;32m   (...)\u001b[0m\n\u001b[1;32m     10\u001b[0m \u001b[39m    K: la valeur de la fonction kernel\u001b[39;00m\n\u001b[1;32m     11\u001b[0m \u001b[39m    \"\"\"\u001b[39;00m\n\u001b[0;32m---> 12\u001b[0m     \u001b[39mreturn\u001b[39;00m (\u001b[39m1\u001b[39m \u001b[39m+\u001b[39m q1 \u001b[39m@\u001b[39;49m q2)\u001b[39m*\u001b[39m\u001b[39m*\u001b[39md\n",
      "\u001b[0;31mValueError\u001b[0m: matmul: Input operand 1 has a mismatch in its core dimension 0, with gufunc signature (n?,k),(k,m?)->(n?,m?) (size 7 is different from 2)"
     ]
    }
   ],
   "source": [
    "F_separ(X3, y3, alpha)"
   ]
  },
  {
   "cell_type": "markdown",
   "metadata": {
    "collapsed": true
   },
   "source": [
    "Visualisez les résultats prenant le fichier **data3** avec le nuage de points et en rajoutant les courbes de niveau $-1$, $0$ et $+1$ de la fonction F_separ que nous venons d'introduire."
   ]
  },
  {
   "cell_type": "code",
   "execution_count": null,
   "metadata": {},
   "outputs": [],
   "source": [
    "def visu_front_ker(df,X):\n",
    "\n",
    "    \n",
    "    plt.show()\n"
   ]
  },
  {
   "cell_type": "code",
   "execution_count": null,
   "metadata": {},
   "outputs": [],
   "source": [
    "visu_front_ker(df,X)"
   ]
  },
  {
   "cell_type": "code",
   "execution_count": null,
   "metadata": {},
   "outputs": [],
   "source": []
  },
  {
   "cell_type": "markdown",
   "metadata": {},
   "source": [
    "### 2. Cas plus large et cas non séparable linéairement"
   ]
  },
  {
   "cell_type": "markdown",
   "metadata": {
    "collapsed": true
   },
   "source": [
    "Tester ce que vous venez de faire sur **data4**.\n",
    "Que remarquez vous? Comment améliorer la situation?"
   ]
  },
  {
   "cell_type": "code",
   "execution_count": null,
   "metadata": {},
   "outputs": [],
   "source": []
  },
  {
   "cell_type": "code",
   "execution_count": null,
   "metadata": {},
   "outputs": [],
   "source": []
  },
  {
   "cell_type": "code",
   "execution_count": null,
   "metadata": {},
   "outputs": [],
   "source": []
  },
  {
   "cell_type": "code",
   "execution_count": null,
   "metadata": {},
   "outputs": [],
   "source": []
  },
  {
   "cell_type": "code",
   "execution_count": null,
   "metadata": {},
   "outputs": [],
   "source": []
  }
 ],
 "metadata": {
  "kernelspec": {
   "display_name": "Python 3",
   "language": "python",
   "name": "python3"
  },
  "language_info": {
   "codemirror_mode": {
    "name": "ipython",
    "version": 3
   },
   "file_extension": ".py",
   "mimetype": "text/x-python",
   "name": "python",
   "nbconvert_exporter": "python",
   "pygments_lexer": "ipython3",
   "version": "3.10.8"
  },
  "vscode": {
   "interpreter": {
    "hash": "e7370f93d1d0cde622a1f8e1c04877d8463912d04d973331ad4851f04de6915a"
   }
  }
 },
 "nbformat": 4,
 "nbformat_minor": 2
}
